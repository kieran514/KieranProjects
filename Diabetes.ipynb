{
  "nbformat": 4,
  "nbformat_minor": 0,
  "metadata": {
    "colab": {
      "name": "Diabetes.ipynb",
      "provenance": [],
      "collapsed_sections": [],
      "authorship_tag": "ABX9TyPBms2kyp+r0l1ZdTHqA6nj",
      "include_colab_link": true
    },
    "kernelspec": {
      "name": "python3",
      "display_name": "Python 3"
    }
  },
  "cells": [
    {
      "cell_type": "markdown",
      "metadata": {
        "id": "view-in-github",
        "colab_type": "text"
      },
      "source": [
        "<a href=\"https://colab.research.google.com/github/kieran514/KieranProjects/blob/master/Diabetes.ipynb\" target=\"_parent\"><img src=\"https://colab.research.google.com/assets/colab-badge.svg\" alt=\"Open In Colab\"/></a>"
      ]
    },
    {
      "cell_type": "markdown",
      "metadata": {
        "id": "r-uI_TvNlf1C",
        "colab_type": "text"
      },
      "source": [
        "# Project 2 Diabetes<br>\n",
        "***\n",
        "This file contains the exploration, preprocessing and predictions on the diabetes dataset. The dataset holds 442 instances and 10 features. Our target is to use these features to determine if the person has diabetes.\n",
        "***\n",
        "Features:\n",
        "1. Age\n",
        "2. Sex\n",
        "3. BMI\n",
        "4. BP\n",
        "5. s1\n",
        "6. s2\n",
        "7. s3\n",
        "8. s4\n",
        "9. s5\n",
        "10. s6\n",
        "***\n",
        "\n",
        "Targets:\n",
        "1. Measure\n",
        "***"
      ]
    },
    {
      "cell_type": "code",
      "metadata": {
        "id": "Xu_xrHcJlIjw",
        "colab_type": "code",
        "colab": {}
      },
      "source": [
        "from sklearn import datasets\n",
        "import numpy as np\n",
        "import pandas as pd\n",
        "import matplotlib.pyplot as plt\n",
        "import seaborn as sns\n",
        "from sklearn.model_selection import train_test_split\n",
        "sns.set()"
      ],
      "execution_count": 80,
      "outputs": []
    },
    {
      "cell_type": "code",
      "metadata": {
        "id": "l6HSRbt-lSop",
        "colab_type": "code",
        "colab": {}
      },
      "source": [
        "diabetes = datasets.load_diabetes()"
      ],
      "execution_count": 97,
      "outputs": []
    },
    {
      "cell_type": "code",
      "metadata": {
        "id": "e9IB90rVlmFz",
        "colab_type": "code",
        "colab": {
          "base_uri": "https://localhost:8080/",
          "height": 359
        },
        "outputId": "ee3dc491-0e9d-46ac-ede6-9d52356b3285"
      },
      "source": [
        "X, y = diabetes.data, diabetes.target\n",
        "X = pd.DataFrame(data=X, columns=diabetes.feature_names)\n",
        "y = pd.DataFrame(data=y, columns=[\"measure\"])\n",
        "X.corr()"
      ],
      "execution_count": 98,
      "outputs": [
        {
          "output_type": "execute_result",
          "data": {
            "text/html": [
              "<div>\n",
              "<style scoped>\n",
              "    .dataframe tbody tr th:only-of-type {\n",
              "        vertical-align: middle;\n",
              "    }\n",
              "\n",
              "    .dataframe tbody tr th {\n",
              "        vertical-align: top;\n",
              "    }\n",
              "\n",
              "    .dataframe thead th {\n",
              "        text-align: right;\n",
              "    }\n",
              "</style>\n",
              "<table border=\"1\" class=\"dataframe\">\n",
              "  <thead>\n",
              "    <tr style=\"text-align: right;\">\n",
              "      <th></th>\n",
              "      <th>age</th>\n",
              "      <th>sex</th>\n",
              "      <th>bmi</th>\n",
              "      <th>bp</th>\n",
              "      <th>s1</th>\n",
              "      <th>s2</th>\n",
              "      <th>s3</th>\n",
              "      <th>s4</th>\n",
              "      <th>s5</th>\n",
              "      <th>s6</th>\n",
              "    </tr>\n",
              "  </thead>\n",
              "  <tbody>\n",
              "    <tr>\n",
              "      <th>age</th>\n",
              "      <td>1.000000</td>\n",
              "      <td>0.173737</td>\n",
              "      <td>0.185085</td>\n",
              "      <td>0.335427</td>\n",
              "      <td>0.260061</td>\n",
              "      <td>0.219243</td>\n",
              "      <td>-0.075181</td>\n",
              "      <td>0.203841</td>\n",
              "      <td>0.270777</td>\n",
              "      <td>0.301731</td>\n",
              "    </tr>\n",
              "    <tr>\n",
              "      <th>sex</th>\n",
              "      <td>0.173737</td>\n",
              "      <td>1.000000</td>\n",
              "      <td>0.088161</td>\n",
              "      <td>0.241013</td>\n",
              "      <td>0.035277</td>\n",
              "      <td>0.142637</td>\n",
              "      <td>-0.379090</td>\n",
              "      <td>0.332115</td>\n",
              "      <td>0.149918</td>\n",
              "      <td>0.208133</td>\n",
              "    </tr>\n",
              "    <tr>\n",
              "      <th>bmi</th>\n",
              "      <td>0.185085</td>\n",
              "      <td>0.088161</td>\n",
              "      <td>1.000000</td>\n",
              "      <td>0.395415</td>\n",
              "      <td>0.249777</td>\n",
              "      <td>0.261170</td>\n",
              "      <td>-0.366811</td>\n",
              "      <td>0.413807</td>\n",
              "      <td>0.446159</td>\n",
              "      <td>0.388680</td>\n",
              "    </tr>\n",
              "    <tr>\n",
              "      <th>bp</th>\n",
              "      <td>0.335427</td>\n",
              "      <td>0.241013</td>\n",
              "      <td>0.395415</td>\n",
              "      <td>1.000000</td>\n",
              "      <td>0.242470</td>\n",
              "      <td>0.185558</td>\n",
              "      <td>-0.178761</td>\n",
              "      <td>0.257653</td>\n",
              "      <td>0.393478</td>\n",
              "      <td>0.390429</td>\n",
              "    </tr>\n",
              "    <tr>\n",
              "      <th>s1</th>\n",
              "      <td>0.260061</td>\n",
              "      <td>0.035277</td>\n",
              "      <td>0.249777</td>\n",
              "      <td>0.242470</td>\n",
              "      <td>1.000000</td>\n",
              "      <td>0.896663</td>\n",
              "      <td>0.051519</td>\n",
              "      <td>0.542207</td>\n",
              "      <td>0.515501</td>\n",
              "      <td>0.325717</td>\n",
              "    </tr>\n",
              "    <tr>\n",
              "      <th>s2</th>\n",
              "      <td>0.219243</td>\n",
              "      <td>0.142637</td>\n",
              "      <td>0.261170</td>\n",
              "      <td>0.185558</td>\n",
              "      <td>0.896663</td>\n",
              "      <td>1.000000</td>\n",
              "      <td>-0.196455</td>\n",
              "      <td>0.659817</td>\n",
              "      <td>0.318353</td>\n",
              "      <td>0.290600</td>\n",
              "    </tr>\n",
              "    <tr>\n",
              "      <th>s3</th>\n",
              "      <td>-0.075181</td>\n",
              "      <td>-0.379090</td>\n",
              "      <td>-0.366811</td>\n",
              "      <td>-0.178761</td>\n",
              "      <td>0.051519</td>\n",
              "      <td>-0.196455</td>\n",
              "      <td>1.000000</td>\n",
              "      <td>-0.738493</td>\n",
              "      <td>-0.398577</td>\n",
              "      <td>-0.273697</td>\n",
              "    </tr>\n",
              "    <tr>\n",
              "      <th>s4</th>\n",
              "      <td>0.203841</td>\n",
              "      <td>0.332115</td>\n",
              "      <td>0.413807</td>\n",
              "      <td>0.257653</td>\n",
              "      <td>0.542207</td>\n",
              "      <td>0.659817</td>\n",
              "      <td>-0.738493</td>\n",
              "      <td>1.000000</td>\n",
              "      <td>0.617857</td>\n",
              "      <td>0.417212</td>\n",
              "    </tr>\n",
              "    <tr>\n",
              "      <th>s5</th>\n",
              "      <td>0.270777</td>\n",
              "      <td>0.149918</td>\n",
              "      <td>0.446159</td>\n",
              "      <td>0.393478</td>\n",
              "      <td>0.515501</td>\n",
              "      <td>0.318353</td>\n",
              "      <td>-0.398577</td>\n",
              "      <td>0.617857</td>\n",
              "      <td>1.000000</td>\n",
              "      <td>0.464670</td>\n",
              "    </tr>\n",
              "    <tr>\n",
              "      <th>s6</th>\n",
              "      <td>0.301731</td>\n",
              "      <td>0.208133</td>\n",
              "      <td>0.388680</td>\n",
              "      <td>0.390429</td>\n",
              "      <td>0.325717</td>\n",
              "      <td>0.290600</td>\n",
              "      <td>-0.273697</td>\n",
              "      <td>0.417212</td>\n",
              "      <td>0.464670</td>\n",
              "      <td>1.000000</td>\n",
              "    </tr>\n",
              "  </tbody>\n",
              "</table>\n",
              "</div>"
            ],
            "text/plain": [
              "          age       sex       bmi  ...        s4        s5        s6\n",
              "age  1.000000  0.173737  0.185085  ...  0.203841  0.270777  0.301731\n",
              "sex  0.173737  1.000000  0.088161  ...  0.332115  0.149918  0.208133\n",
              "bmi  0.185085  0.088161  1.000000  ...  0.413807  0.446159  0.388680\n",
              "bp   0.335427  0.241013  0.395415  ...  0.257653  0.393478  0.390429\n",
              "s1   0.260061  0.035277  0.249777  ...  0.542207  0.515501  0.325717\n",
              "s2   0.219243  0.142637  0.261170  ...  0.659817  0.318353  0.290600\n",
              "s3  -0.075181 -0.379090 -0.366811  ... -0.738493 -0.398577 -0.273697\n",
              "s4   0.203841  0.332115  0.413807  ...  1.000000  0.617857  0.417212\n",
              "s5   0.270777  0.149918  0.446159  ...  0.617857  1.000000  0.464670\n",
              "s6   0.301731  0.208133  0.388680  ...  0.417212  0.464670  1.000000\n",
              "\n",
              "[10 rows x 10 columns]"
            ]
          },
          "metadata": {
            "tags": []
          },
          "execution_count": 98
        }
      ]
    },
    {
      "cell_type": "code",
      "metadata": {
        "id": "nhjkUVqvlouk",
        "colab_type": "code",
        "colab": {}
      },
      "source": [
        "from sklearn.ensemble import RandomForestRegressor, AdaBoostRegressor, ExtraTreesRegressor\n",
        "from sklearn.tree import DecisionTreeRegressor\n",
        "from sklearn.linear_model import LinearRegression, ElasticNet, Lasso\n",
        "from sklearn.svm import SVR, LinearSVR\n",
        "import xgboost\n",
        "\n",
        "random_reg = RandomForestRegressor(random_state=42)\n",
        "lin_reg = LinearRegression()\n",
        "elastic_reg = ElasticNet(random_state=42)\n",
        "lass_reg = Lasso(random_state=42)\n",
        "svr = SVR()\n",
        "lin_srv = LinearSVR(random_state=42)\n",
        "ada_reg = AdaBoostRegressor(DecisionTreeRegressor(max_depth=1), n_estimators=200, learning_rate=0.5)\n",
        "xgb_reg = xgboost.XGBRegressor()\n",
        "extra_tree_reg = ExtraTreesRegressor()\n",
        "# Defining regression models to be trained."
      ],
      "execution_count": 83,
      "outputs": []
    },
    {
      "cell_type": "code",
      "metadata": {
        "id": "fVo9XyWOmGSO",
        "colab_type": "code",
        "colab": {}
      },
      "source": [
        "X_train, X_test, y_train, y_test = train_test_split(X, y.values.ravel(), test_size=0.4, random_state=42)"
      ],
      "execution_count": 90,
      "outputs": []
    },
    {
      "cell_type": "code",
      "metadata": {
        "id": "Rn49EEUQlruC",
        "colab_type": "code",
        "colab": {
          "base_uri": "https://localhost:8080/",
          "height": 357
        },
        "outputId": "722ced2c-75e8-4550-f047-f360b9b37a90"
      },
      "source": [
        "from sklearn.model_selection import cross_val_score\n",
        "for reg in (random_reg, lin_reg, elastic_reg, lass_reg, svr, lin_srv, ada_reg, xgb_reg, extra_tree_reg):\n",
        "    reg.fit(X_train, y_train)\n",
        "    # Run through each model and fit them to the training data.\n",
        "    scores = cross_val_score(reg, X_train, y_train, scoring=\"neg_mean_squared_error\", cv=10);\n",
        "    # Find the scores of the nmse with cv=5 because we have a small amount of data.\n",
        "    sqrt_scores = np.sqrt(-scores)\n",
        "    mean_score = sqrt_scores.mean()\n",
        "    print(reg.__class__.__name__, mean_score)"
      ],
      "execution_count": 91,
      "outputs": [
        {
          "output_type": "stream",
          "text": [
            "RandomForestRegressor 59.48587636862137\n",
            "LinearRegression 56.623488885988095\n",
            "ElasticNet 76.87736236268613\n",
            "Lasso 63.660349439293256\n",
            "SVR 73.07384266126516\n",
            "LinearSVR 94.49371848682955\n",
            "AdaBoostRegressor 62.64827822029243\n",
            "[11:06:46] WARNING: /workspace/src/objective/regression_obj.cu:152: reg:linear is now deprecated in favor of reg:squarederror.\n",
            "[11:06:46] WARNING: /workspace/src/objective/regression_obj.cu:152: reg:linear is now deprecated in favor of reg:squarederror.\n",
            "[11:06:46] WARNING: /workspace/src/objective/regression_obj.cu:152: reg:linear is now deprecated in favor of reg:squarederror.\n",
            "[11:06:46] WARNING: /workspace/src/objective/regression_obj.cu:152: reg:linear is now deprecated in favor of reg:squarederror.\n",
            "[11:06:46] WARNING: /workspace/src/objective/regression_obj.cu:152: reg:linear is now deprecated in favor of reg:squarederror.\n",
            "[11:06:46] WARNING: /workspace/src/objective/regression_obj.cu:152: reg:linear is now deprecated in favor of reg:squarederror.\n",
            "[11:06:46] WARNING: /workspace/src/objective/regression_obj.cu:152: reg:linear is now deprecated in favor of reg:squarederror.\n",
            "[11:06:46] WARNING: /workspace/src/objective/regression_obj.cu:152: reg:linear is now deprecated in favor of reg:squarederror.\n",
            "[11:06:46] WARNING: /workspace/src/objective/regression_obj.cu:152: reg:linear is now deprecated in favor of reg:squarederror.\n",
            "[11:06:46] WARNING: /workspace/src/objective/regression_obj.cu:152: reg:linear is now deprecated in favor of reg:squarederror.\n",
            "[11:06:46] WARNING: /workspace/src/objective/regression_obj.cu:152: reg:linear is now deprecated in favor of reg:squarederror.\n",
            "XGBRegressor 60.42596302671832\n",
            "ExtraTreesRegressor 59.278753153359176\n"
          ],
          "name": "stdout"
        }
      ]
    },
    {
      "cell_type": "code",
      "metadata": {
        "id": "tnTxjg4Cl0RU",
        "colab_type": "code",
        "colab": {
          "base_uri": "https://localhost:8080/",
          "height": 170
        },
        "outputId": "37949a1b-8f9a-42cb-f3be-273c213e7ea3"
      },
      "source": [
        "for reg in (random_reg, lin_reg, elastic_reg, lass_reg, svr, lin_srv, ada_reg, xgb_reg, extra_tree_reg):\n",
        "    train_score = reg.score(X_train, y_train)\n",
        "    test_score = reg.score(X_test, y_test)\n",
        "    # Scores for the training data and the test data. The larger the gap the more likely we have overfit our data.\n",
        "    print(reg.__class__.__name__, train_score, test_score)"
      ],
      "execution_count": 92,
      "outputs": [
        {
          "output_type": "stream",
          "text": [
            "RandomForestRegressor 0.9150403192189842 0.48939748975959807\n",
            "LinearRegression 0.5072199968937583 0.5157444756897698\n",
            "ElasticNet 0.008509036039876294 0.00754200749756917\n",
            "Lasso 0.34676446061930194 0.3421656776375358\n",
            "SVR 0.12638823520776954 0.11653850749362338\n",
            "LinearSVR -0.4719110597349776 -0.5354275291523478\n",
            "AdaBoostRegressor 0.3850776536643441 0.3773605306931386\n",
            "XGBRegressor 0.861988049875266 0.49042230092639794\n",
            "ExtraTreesRegressor 1.0 0.5083668682275946\n"
          ],
          "name": "stdout"
        }
      ]
    },
    {
      "cell_type": "markdown",
      "metadata": {
        "id": "ZGPB9bhjyO3p",
        "colab_type": "text"
      },
      "source": [
        "Linear regression looks like the best fit for this data"
      ]
    },
    {
      "cell_type": "code",
      "metadata": {
        "id": "CvYxgImfsuah",
        "colab_type": "code",
        "colab": {
          "base_uri": "https://localhost:8080/",
          "height": 34
        },
        "outputId": "0b7d340f-1781-4264-f805-57e0b35a4fe5"
      },
      "source": [
        "model = LinearRegression()\n",
        "model.fit(X_train, y_train)\n",
        "model.score(X_test, y_test)"
      ],
      "execution_count": 95,
      "outputs": [
        {
          "output_type": "execute_result",
          "data": {
            "text/plain": [
              "0.5157444756897698"
            ]
          },
          "metadata": {
            "tags": []
          },
          "execution_count": 95
        }
      ]
    },
    {
      "cell_type": "code",
      "metadata": {
        "id": "Ca-y8R_F2ktr",
        "colab_type": "code",
        "colab": {}
      },
      "source": [
        "  "
      ],
      "execution_count": 95,
      "outputs": []
    }
  ]
}