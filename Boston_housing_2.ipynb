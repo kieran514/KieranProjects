{
 "cells": [
  {
   "cell_type": "markdown",
   "metadata": {
    "colab_type": "text",
    "id": "GfOpyojIOaQo"
   },
   "source": [
    "# Project 1 Boston Housing<br>\n",
    "***\n",
    "This file contains the exploration, preprocessing and predictions on the boston_housing dataset. The dataset holds 506 instances and 13 features. Our target is to use these features to find the median value of homes.\n",
    "***\n",
    "Features:\n",
    "1. CRIM: per capita crime rate by town\n",
    "2. ZN: proportion of residential land zoned for lots over 25,000 sq.ft\n",
    "3. INDUS: proportion of non-retail business acres per town\n",
    "4. CHAS: Charles River dummy variable (= 1 if tract bounds river; 0 otherwise)\n",
    "5. NOX: nitric oxides concentration (parts per 10 million)\n",
    "6. RM: average number of rooms per dwelling\n",
    "7. AGE: proportion of owner-occupied units built before 1940\n",
    "8. DIS: weighted distances to five Boston employment centres\n",
    "9. RAD: index of accessibility to radial highways\n",
    "10. TAX: full-value property-tax rate per $10,000\n",
    "11. PTRATIO  pupil-teacher ratio by town\n",
    "12. B: 1000(Bk - 0.63)^2 where Bk is the proportion of blacks by town\n",
    "13. LSTAT: lower status of the population\n",
    "***\n",
    "\n",
    "Targets:\n",
    "1. MEDV: Median value of owner-occupied homes in $1000's\n",
    "***"
   ]
  },
  {
   "cell_type": "markdown",
   "metadata": {
    "colab_type": "text",
    "id": "JBXrv0QFOaQp"
   },
   "source": [
    "### Imports"
   ]
  },
  {
   "cell_type": "code",
   "execution_count": 100,
   "metadata": {
    "colab": {
     "base_uri": "https://localhost:8080/",
     "height": 71
    },
    "colab_type": "code",
    "id": "6jhl-PA_OaQq",
    "outputId": "5abe5103-6c10-4bda-ac53-2589a4129ade"
   },
   "outputs": [],
   "source": [
    "from sklearn import datasets\n",
    "import numpy as np\n",
    "import matplotlib.pyplot as plt\n",
    "import seaborn as sns\n",
    "import pandas as pd\n",
    "from sklearn.preprocessing import StandardScaler, FunctionTransformer\n",
    "from sklearn.compose import ColumnTransformer\n",
    "from sklearn.ensemble import RandomForestRegressor\n",
    "from sklearn.pipeline import Pipeline\n",
    "from sklearn.model_selection import train_test_split, GridSearchCV\n",
    "from sklearn.linear_model import LinearRegression, ElasticNet, Lasso\n",
    "from sklearn.svm import SVR, LinearSVR\n",
    "from sklearn.metrics import mean_squared_error\n",
    "from sklearn.model_selection import cross_val_score\n",
    "from sklearn.ensemble import GradientBoostingRegressor\n",
    "from sklearn.ensemble import AdaBoostRegressor\n",
    "from sklearn.tree import DecisionTreeRegressor\n",
    "from sklearn.ensemble import ExtraTreesRegressor\n",
    "import xgboost\n",
    "import joblib\n",
    "sns.set()"
   ]
  },
  {
   "cell_type": "markdown",
   "metadata": {
    "colab_type": "text",
    "id": "TvpuqxqpOaQu"
   },
   "source": [
    "### Load in the data"
   ]
  },
  {
   "cell_type": "code",
   "execution_count": 2,
   "metadata": {
    "colab": {
     "base_uri": "https://localhost:8080/",
     "height": 34
    },
    "colab_type": "code",
    "id": "NZ0t_u6cOaQu",
    "outputId": "f50cbd6d-8121-44e9-ded2-4a99b31fcde0"
   },
   "outputs": [
    {
     "data": {
      "text/plain": [
       "dict_keys(['data', 'target', 'feature_names', 'DESCR', 'filename'])"
      ]
     },
     "execution_count": 2,
     "metadata": {},
     "output_type": "execute_result"
    }
   ],
   "source": [
    "# sklearn's toy dataset.\n",
    "boston_housing = datasets.load_boston()\n",
    "boston_housing.keys()"
   ]
  },
  {
   "cell_type": "code",
   "execution_count": 3,
   "metadata": {
    "colab": {
     "base_uri": "https://localhost:8080/",
     "height": 137
    },
    "colab_type": "code",
    "id": "kA8aHwvGOaQy",
    "outputId": "6542f965-1602-4609-802c-cce2d437d76d"
   },
   "outputs": [
    {
     "data": {
      "text/plain": [
       "\".. _boston_dataset:\\n\\nBoston house prices dataset\\n---------------------------\\n\\n**Data Set Characteristics:**  \\n\\n    :Number of Instances: 506 \\n\\n    :Number of Attributes: 13 numeric/categorical predictive. Median Value (attribute 14) is usually the target.\\n\\n    :Attribute Information (in order):\\n        - CRIM     per capita crime rate by town\\n        - ZN       proportion of residential land zoned for lots over 25,000 sq.ft.\\n        - INDUS    proportion of non-retail business acres per town\\n        - CHAS     Charles River dummy variable (= 1 if tract bounds river; 0 otherwise)\\n        - NOX      nitric oxides concentration (parts per 10 million)\\n        - RM       average number of rooms per dwelling\\n        - AGE      proportion of owner-occupied units built prior to 1940\\n        - DIS      weighted distances to five Boston employment centres\\n        - RAD      index of accessibility to radial highways\\n        - TAX      full-value property-tax rate per $10,000\\n        - PTRATIO  pupil-teacher ratio by town\\n        - B        1000(Bk - 0.63)^2 where Bk is the proportion of blacks by town\\n        - LSTAT    % lower status of the population\\n        - MEDV     Median value of owner-occupied homes in $1000's\\n\\n    :Missing Attribute Values: None\\n\\n    :Creator: Harrison, D. and Rubinfeld, D.L.\\n\\nThis is a copy of UCI ML housing dataset.\\nhttps://archive.ics.uci.edu/ml/machine-learning-databases/housing/\\n\\n\\nThis dataset was taken from the StatLib library which is maintained at Carnegie Mellon University.\\n\\nThe Boston house-price data of Harrison, D. and Rubinfeld, D.L. 'Hedonic\\nprices and the demand for clean air', J. Environ. Economics & Management,\\nvol.5, 81-102, 1978.   Used in Belsley, Kuh & Welsch, 'Regression diagnostics\\n...', Wiley, 1980.   N.B. Various transformations are used in the table on\\npages 244-261 of the latter.\\n\\nThe Boston house-price data has been used in many machine learning papers that address regression\\nproblems.   \\n     \\n.. topic:: References\\n\\n   - Belsley, Kuh & Welsch, 'Regression diagnostics: Identifying Influential Data and Sources of Collinearity', Wiley, 1980. 244-261.\\n   - Quinlan,R. (1993). Combining Instance-Based and Model-Based Learning. In Proceedings on the Tenth International Conference of Machine Learning, 236-243, University of Massachusetts, Amherst. Morgan Kaufmann.\\n\""
      ]
     },
     "execution_count": 3,
     "metadata": {},
     "output_type": "execute_result"
    }
   ],
   "source": [
    "boston_housing.DESCR"
   ]
  },
  {
   "cell_type": "markdown",
   "metadata": {
    "colab_type": "text",
    "id": "Tndo7Uj2OaQ1"
   },
   "source": [
    "### Turning the data into a dataframe and defining X and y"
   ]
  },
  {
   "cell_type": "code",
   "execution_count": 4,
   "metadata": {
    "colab": {},
    "colab_type": "code",
    "id": "ekN_wX51OaQ1"
   },
   "outputs": [],
   "source": [
    "column_names = list(boston_housing.feature_names)\n",
    "# Column names to be used for the pandas dataframe.\n",
    "X = pd.DataFrame(data=boston_housing.data, columns=column_names)\n",
    "y = pd.DataFrame(data=boston_housing.target, columns=[\"MEDV\"])\n",
    "# Converted the numpy data into a pandas dataframe for greater visulaisation and preprocessing."
   ]
  },
  {
   "cell_type": "code",
   "execution_count": 5,
   "metadata": {
    "colab": {
     "base_uri": "https://localhost:8080/",
     "height": 204
    },
    "colab_type": "code",
    "id": "GEECPXCdOaQ6",
    "outputId": "3af1706f-2ef3-4d08-890f-d45032aad5ed"
   },
   "outputs": [
    {
     "data": {
      "text/html": [
       "<div>\n",
       "<style scoped>\n",
       "    .dataframe tbody tr th:only-of-type {\n",
       "        vertical-align: middle;\n",
       "    }\n",
       "\n",
       "    .dataframe tbody tr th {\n",
       "        vertical-align: top;\n",
       "    }\n",
       "\n",
       "    .dataframe thead th {\n",
       "        text-align: right;\n",
       "    }\n",
       "</style>\n",
       "<table border=\"1\" class=\"dataframe\">\n",
       "  <thead>\n",
       "    <tr style=\"text-align: right;\">\n",
       "      <th></th>\n",
       "      <th>CRIM</th>\n",
       "      <th>ZN</th>\n",
       "      <th>INDUS</th>\n",
       "      <th>CHAS</th>\n",
       "      <th>NOX</th>\n",
       "      <th>RM</th>\n",
       "      <th>AGE</th>\n",
       "      <th>DIS</th>\n",
       "      <th>RAD</th>\n",
       "      <th>TAX</th>\n",
       "      <th>PTRATIO</th>\n",
       "      <th>B</th>\n",
       "      <th>LSTAT</th>\n",
       "    </tr>\n",
       "  </thead>\n",
       "  <tbody>\n",
       "    <tr>\n",
       "      <th>0</th>\n",
       "      <td>0.00632</td>\n",
       "      <td>18.0</td>\n",
       "      <td>2.31</td>\n",
       "      <td>0.0</td>\n",
       "      <td>0.538</td>\n",
       "      <td>6.575</td>\n",
       "      <td>65.2</td>\n",
       "      <td>4.0900</td>\n",
       "      <td>1.0</td>\n",
       "      <td>296.0</td>\n",
       "      <td>15.3</td>\n",
       "      <td>396.90</td>\n",
       "      <td>4.98</td>\n",
       "    </tr>\n",
       "    <tr>\n",
       "      <th>1</th>\n",
       "      <td>0.02731</td>\n",
       "      <td>0.0</td>\n",
       "      <td>7.07</td>\n",
       "      <td>0.0</td>\n",
       "      <td>0.469</td>\n",
       "      <td>6.421</td>\n",
       "      <td>78.9</td>\n",
       "      <td>4.9671</td>\n",
       "      <td>2.0</td>\n",
       "      <td>242.0</td>\n",
       "      <td>17.8</td>\n",
       "      <td>396.90</td>\n",
       "      <td>9.14</td>\n",
       "    </tr>\n",
       "    <tr>\n",
       "      <th>2</th>\n",
       "      <td>0.02729</td>\n",
       "      <td>0.0</td>\n",
       "      <td>7.07</td>\n",
       "      <td>0.0</td>\n",
       "      <td>0.469</td>\n",
       "      <td>7.185</td>\n",
       "      <td>61.1</td>\n",
       "      <td>4.9671</td>\n",
       "      <td>2.0</td>\n",
       "      <td>242.0</td>\n",
       "      <td>17.8</td>\n",
       "      <td>392.83</td>\n",
       "      <td>4.03</td>\n",
       "    </tr>\n",
       "    <tr>\n",
       "      <th>3</th>\n",
       "      <td>0.03237</td>\n",
       "      <td>0.0</td>\n",
       "      <td>2.18</td>\n",
       "      <td>0.0</td>\n",
       "      <td>0.458</td>\n",
       "      <td>6.998</td>\n",
       "      <td>45.8</td>\n",
       "      <td>6.0622</td>\n",
       "      <td>3.0</td>\n",
       "      <td>222.0</td>\n",
       "      <td>18.7</td>\n",
       "      <td>394.63</td>\n",
       "      <td>2.94</td>\n",
       "    </tr>\n",
       "    <tr>\n",
       "      <th>4</th>\n",
       "      <td>0.06905</td>\n",
       "      <td>0.0</td>\n",
       "      <td>2.18</td>\n",
       "      <td>0.0</td>\n",
       "      <td>0.458</td>\n",
       "      <td>7.147</td>\n",
       "      <td>54.2</td>\n",
       "      <td>6.0622</td>\n",
       "      <td>3.0</td>\n",
       "      <td>222.0</td>\n",
       "      <td>18.7</td>\n",
       "      <td>396.90</td>\n",
       "      <td>5.33</td>\n",
       "    </tr>\n",
       "  </tbody>\n",
       "</table>\n",
       "</div>"
      ],
      "text/plain": [
       "      CRIM    ZN  INDUS  CHAS    NOX     RM   AGE     DIS  RAD    TAX  \\\n",
       "0  0.00632  18.0   2.31   0.0  0.538  6.575  65.2  4.0900  1.0  296.0   \n",
       "1  0.02731   0.0   7.07   0.0  0.469  6.421  78.9  4.9671  2.0  242.0   \n",
       "2  0.02729   0.0   7.07   0.0  0.469  7.185  61.1  4.9671  2.0  242.0   \n",
       "3  0.03237   0.0   2.18   0.0  0.458  6.998  45.8  6.0622  3.0  222.0   \n",
       "4  0.06905   0.0   2.18   0.0  0.458  7.147  54.2  6.0622  3.0  222.0   \n",
       "\n",
       "   PTRATIO       B  LSTAT  \n",
       "0     15.3  396.90   4.98  \n",
       "1     17.8  396.90   9.14  \n",
       "2     17.8  392.83   4.03  \n",
       "3     18.7  394.63   2.94  \n",
       "4     18.7  396.90   5.33  "
      ]
     },
     "execution_count": 5,
     "metadata": {},
     "output_type": "execute_result"
    }
   ],
   "source": [
    "X.head()"
   ]
  },
  {
   "cell_type": "markdown",
   "metadata": {
    "colab_type": "text",
    "id": "Nvr7-u4qb8yu"
   },
   "source": [
    "## Visulaise and preproces"
   ]
  },
  {
   "cell_type": "code",
   "execution_count": 6,
   "metadata": {
    "colab": {
     "base_uri": "https://localhost:8080/",
     "height": 357
    },
    "colab_type": "code",
    "id": "Rx4GKxTVOaQ8",
    "outputId": "9935b160-59ee-4e12-a96f-420d669bdbed"
   },
   "outputs": [
    {
     "name": "stdout",
     "output_type": "stream",
     "text": [
      "<class 'pandas.core.frame.DataFrame'>\n",
      "RangeIndex: 506 entries, 0 to 505\n",
      "Data columns (total 13 columns):\n",
      " #   Column   Non-Null Count  Dtype  \n",
      "---  ------   --------------  -----  \n",
      " 0   CRIM     506 non-null    float64\n",
      " 1   ZN       506 non-null    float64\n",
      " 2   INDUS    506 non-null    float64\n",
      " 3   CHAS     506 non-null    float64\n",
      " 4   NOX      506 non-null    float64\n",
      " 5   RM       506 non-null    float64\n",
      " 6   AGE      506 non-null    float64\n",
      " 7   DIS      506 non-null    float64\n",
      " 8   RAD      506 non-null    float64\n",
      " 9   TAX      506 non-null    float64\n",
      " 10  PTRATIO  506 non-null    float64\n",
      " 11  B        506 non-null    float64\n",
      " 12  LSTAT    506 non-null    float64\n",
      "dtypes: float64(13)\n",
      "memory usage: 51.5 KB\n"
     ]
    }
   ],
   "source": [
    "# Check that there is no missing data.\n",
    "X.info()"
   ]
  },
  {
   "cell_type": "markdown",
   "metadata": {
    "colab_type": "text",
    "id": "WY6pc5NmOaRA"
   },
   "source": [
    "We can confirm that there are 506 non-null values for all features. **No missing data**"
   ]
  },
  {
   "cell_type": "code",
   "execution_count": 7,
   "metadata": {
    "colab": {},
    "colab_type": "code",
    "id": "BrfOWZ_UOaRA"
   },
   "outputs": [],
   "source": [
    "X[\"CHAS\"] = X[\"CHAS\"].astype('bool')\n",
    "# CHAS is a bool type therefore we will make the CHAS attribute as type bool, when we automatically look for values to scale we will not include the bool type."
   ]
  },
  {
   "cell_type": "code",
   "execution_count": 8,
   "metadata": {
    "colab": {
     "base_uri": "https://localhost:8080/",
     "height": 297
    },
    "colab_type": "code",
    "id": "zDG8frWWOaRC",
    "outputId": "5edb5b24-5dfd-4ff3-a107-31160b0bd90f"
   },
   "outputs": [
    {
     "data": {
      "text/html": [
       "<div>\n",
       "<style scoped>\n",
       "    .dataframe tbody tr th:only-of-type {\n",
       "        vertical-align: middle;\n",
       "    }\n",
       "\n",
       "    .dataframe tbody tr th {\n",
       "        vertical-align: top;\n",
       "    }\n",
       "\n",
       "    .dataframe thead th {\n",
       "        text-align: right;\n",
       "    }\n",
       "</style>\n",
       "<table border=\"1\" class=\"dataframe\">\n",
       "  <thead>\n",
       "    <tr style=\"text-align: right;\">\n",
       "      <th></th>\n",
       "      <th>CRIM</th>\n",
       "      <th>ZN</th>\n",
       "      <th>INDUS</th>\n",
       "      <th>NOX</th>\n",
       "      <th>RM</th>\n",
       "      <th>AGE</th>\n",
       "      <th>DIS</th>\n",
       "      <th>RAD</th>\n",
       "      <th>TAX</th>\n",
       "      <th>PTRATIO</th>\n",
       "      <th>B</th>\n",
       "      <th>LSTAT</th>\n",
       "    </tr>\n",
       "  </thead>\n",
       "  <tbody>\n",
       "    <tr>\n",
       "      <th>count</th>\n",
       "      <td>506.000000</td>\n",
       "      <td>506.000000</td>\n",
       "      <td>506.000000</td>\n",
       "      <td>506.000000</td>\n",
       "      <td>506.000000</td>\n",
       "      <td>506.000000</td>\n",
       "      <td>506.000000</td>\n",
       "      <td>506.000000</td>\n",
       "      <td>506.000000</td>\n",
       "      <td>506.000000</td>\n",
       "      <td>506.000000</td>\n",
       "      <td>506.000000</td>\n",
       "    </tr>\n",
       "    <tr>\n",
       "      <th>mean</th>\n",
       "      <td>3.613524</td>\n",
       "      <td>11.363636</td>\n",
       "      <td>11.136779</td>\n",
       "      <td>0.554695</td>\n",
       "      <td>6.284634</td>\n",
       "      <td>68.574901</td>\n",
       "      <td>3.795043</td>\n",
       "      <td>9.549407</td>\n",
       "      <td>408.237154</td>\n",
       "      <td>18.455534</td>\n",
       "      <td>356.674032</td>\n",
       "      <td>12.653063</td>\n",
       "    </tr>\n",
       "    <tr>\n",
       "      <th>std</th>\n",
       "      <td>8.601545</td>\n",
       "      <td>23.322453</td>\n",
       "      <td>6.860353</td>\n",
       "      <td>0.115878</td>\n",
       "      <td>0.702617</td>\n",
       "      <td>28.148861</td>\n",
       "      <td>2.105710</td>\n",
       "      <td>8.707259</td>\n",
       "      <td>168.537116</td>\n",
       "      <td>2.164946</td>\n",
       "      <td>91.294864</td>\n",
       "      <td>7.141062</td>\n",
       "    </tr>\n",
       "    <tr>\n",
       "      <th>min</th>\n",
       "      <td>0.006320</td>\n",
       "      <td>0.000000</td>\n",
       "      <td>0.460000</td>\n",
       "      <td>0.385000</td>\n",
       "      <td>3.561000</td>\n",
       "      <td>2.900000</td>\n",
       "      <td>1.129600</td>\n",
       "      <td>1.000000</td>\n",
       "      <td>187.000000</td>\n",
       "      <td>12.600000</td>\n",
       "      <td>0.320000</td>\n",
       "      <td>1.730000</td>\n",
       "    </tr>\n",
       "    <tr>\n",
       "      <th>25%</th>\n",
       "      <td>0.082045</td>\n",
       "      <td>0.000000</td>\n",
       "      <td>5.190000</td>\n",
       "      <td>0.449000</td>\n",
       "      <td>5.885500</td>\n",
       "      <td>45.025000</td>\n",
       "      <td>2.100175</td>\n",
       "      <td>4.000000</td>\n",
       "      <td>279.000000</td>\n",
       "      <td>17.400000</td>\n",
       "      <td>375.377500</td>\n",
       "      <td>6.950000</td>\n",
       "    </tr>\n",
       "    <tr>\n",
       "      <th>50%</th>\n",
       "      <td>0.256510</td>\n",
       "      <td>0.000000</td>\n",
       "      <td>9.690000</td>\n",
       "      <td>0.538000</td>\n",
       "      <td>6.208500</td>\n",
       "      <td>77.500000</td>\n",
       "      <td>3.207450</td>\n",
       "      <td>5.000000</td>\n",
       "      <td>330.000000</td>\n",
       "      <td>19.050000</td>\n",
       "      <td>391.440000</td>\n",
       "      <td>11.360000</td>\n",
       "    </tr>\n",
       "    <tr>\n",
       "      <th>75%</th>\n",
       "      <td>3.677083</td>\n",
       "      <td>12.500000</td>\n",
       "      <td>18.100000</td>\n",
       "      <td>0.624000</td>\n",
       "      <td>6.623500</td>\n",
       "      <td>94.075000</td>\n",
       "      <td>5.188425</td>\n",
       "      <td>24.000000</td>\n",
       "      <td>666.000000</td>\n",
       "      <td>20.200000</td>\n",
       "      <td>396.225000</td>\n",
       "      <td>16.955000</td>\n",
       "    </tr>\n",
       "    <tr>\n",
       "      <th>max</th>\n",
       "      <td>88.976200</td>\n",
       "      <td>100.000000</td>\n",
       "      <td>27.740000</td>\n",
       "      <td>0.871000</td>\n",
       "      <td>8.780000</td>\n",
       "      <td>100.000000</td>\n",
       "      <td>12.126500</td>\n",
       "      <td>24.000000</td>\n",
       "      <td>711.000000</td>\n",
       "      <td>22.000000</td>\n",
       "      <td>396.900000</td>\n",
       "      <td>37.970000</td>\n",
       "    </tr>\n",
       "  </tbody>\n",
       "</table>\n",
       "</div>"
      ],
      "text/plain": [
       "             CRIM          ZN       INDUS         NOX          RM         AGE  \\\n",
       "count  506.000000  506.000000  506.000000  506.000000  506.000000  506.000000   \n",
       "mean     3.613524   11.363636   11.136779    0.554695    6.284634   68.574901   \n",
       "std      8.601545   23.322453    6.860353    0.115878    0.702617   28.148861   \n",
       "min      0.006320    0.000000    0.460000    0.385000    3.561000    2.900000   \n",
       "25%      0.082045    0.000000    5.190000    0.449000    5.885500   45.025000   \n",
       "50%      0.256510    0.000000    9.690000    0.538000    6.208500   77.500000   \n",
       "75%      3.677083   12.500000   18.100000    0.624000    6.623500   94.075000   \n",
       "max     88.976200  100.000000   27.740000    0.871000    8.780000  100.000000   \n",
       "\n",
       "              DIS         RAD         TAX     PTRATIO           B       LSTAT  \n",
       "count  506.000000  506.000000  506.000000  506.000000  506.000000  506.000000  \n",
       "mean     3.795043    9.549407  408.237154   18.455534  356.674032   12.653063  \n",
       "std      2.105710    8.707259  168.537116    2.164946   91.294864    7.141062  \n",
       "min      1.129600    1.000000  187.000000   12.600000    0.320000    1.730000  \n",
       "25%      2.100175    4.000000  279.000000   17.400000  375.377500    6.950000  \n",
       "50%      3.207450    5.000000  330.000000   19.050000  391.440000   11.360000  \n",
       "75%      5.188425   24.000000  666.000000   20.200000  396.225000   16.955000  \n",
       "max     12.126500   24.000000  711.000000   22.000000  396.900000   37.970000  "
      ]
     },
     "execution_count": 8,
     "metadata": {},
     "output_type": "execute_result"
    }
   ],
   "source": [
    "X.describe()"
   ]
  },
  {
   "cell_type": "code",
   "execution_count": 9,
   "metadata": {
    "colab": {
     "base_uri": "https://localhost:8080/",
     "height": 238
    },
    "colab_type": "code",
    "id": "lvXWI6trOaRF",
    "outputId": "152898d0-cf1d-444b-d90f-14107a3c1766"
   },
   "outputs": [
    {
     "data": {
      "text/plain": [
       "CRIM       5.223149\n",
       "ZN         2.225666\n",
       "INDUS      0.295022\n",
       "NOX        0.729308\n",
       "RM         0.403612\n",
       "AGE       -0.598963\n",
       "DIS        1.011781\n",
       "RAD        1.004815\n",
       "TAX        0.669956\n",
       "PTRATIO   -0.802325\n",
       "B         -2.890374\n",
       "LSTAT      0.906460\n",
       "dtype: float64"
      ]
     },
     "execution_count": 9,
     "metadata": {},
     "output_type": "execute_result"
    }
   ],
   "source": [
    "features_skew = X.select_dtypes(include=[np.number]).skew()\n",
    "# Many features of our data are skewed and the outliers will negativly effect our final model.\n",
    "features_skew"
   ]
  },
  {
   "cell_type": "markdown",
   "metadata": {
    "colab_type": "text",
    "id": "olgGTRldOaRH"
   },
   "source": [
    "CRIM, ZN, NOX, AGE, DIS, RAD, TAX, PTRATIO, B, LSTAT are all skewded features determined by the skewed value being >0.5.<br> We can demonstrate this visually.<br>"
   ]
  },
  {
   "cell_type": "code",
   "execution_count": 10,
   "metadata": {
    "colab": {
     "base_uri": "https://localhost:8080/",
     "height": 610
    },
    "colab_type": "code",
    "id": "nteBM9fWOaRI",
    "outputId": "b4ebc586-7b13-4028-9581-86fbc20325d1"
   },
   "outputs": [
    {
     "data": {
      "image/png": "[encoded data removed]",
      "text/plain": [
       "<Figure size 1296x720 with 16 Axes>"
      ]
     },
     "metadata": {},
     "output_type": "display_data"
    }
   ],
   "source": [
    "X.astype('float64').hist(bins=50, figsize=(18,10))\n",
    "# All features must be floats because bool is not supported.\n",
    "plt.show()"
   ]
  },
  {
   "cell_type": "code",
   "execution_count": 11,
   "metadata": {
    "colab": {},
    "colab_type": "code",
    "id": "0Ikm0T7mOaRK"
   },
   "outputs": [],
   "source": [
    "skewed_features = list(features_skew[abs(features_skew) > 0.5].index)\n",
    "# The features that we will apply a log transformation and power scaling to.\n",
    "scale_features = list([name for name in features_skew.index if name not in skewed_features])\n",
    "# The features that will be simply scaled.\n",
    "boolean_features = list(X.select_dtypes(exclude=[np.number]).columns)\n",
    "# The earlier defined bool feature (no methods will be applied)."
   ]
  },
  {
   "cell_type": "code",
   "execution_count": 12,
   "metadata": {
    "colab": {
     "base_uri": "https://localhost:8080/",
     "height": 34
    },
    "colab_type": "code",
    "id": "tWCxnjzhOaRM",
    "outputId": "a10aea8a-ccab-4037-8abb-88f73a3a784b"
   },
   "outputs": [
    {
     "data": {
      "text/plain": [
       "['CRIM', 'ZN', 'NOX', 'AGE', 'DIS', 'RAD', 'TAX', 'PTRATIO', 'B', 'LSTAT']"
      ]
     },
     "execution_count": 12,
     "metadata": {},
     "output_type": "execute_result"
    }
   ],
   "source": [
    "skewed_features"
   ]
  },
  {
   "cell_type": "code",
   "execution_count": 13,
   "metadata": {
    "colab": {
     "base_uri": "https://localhost:8080/",
     "height": 34
    },
    "colab_type": "code",
    "id": "2_OKF5B-OaRP",
    "outputId": "42f61e3b-5a7d-4fed-eeab-70b621c98581"
   },
   "outputs": [
    {
     "data": {
      "text/plain": [
       "['INDUS', 'RM']"
      ]
     },
     "execution_count": 13,
     "metadata": {},
     "output_type": "execute_result"
    }
   ],
   "source": [
    "scale_features"
   ]
  },
  {
   "cell_type": "code",
   "execution_count": 14,
   "metadata": {
    "colab": {
     "base_uri": "https://localhost:8080/",
     "height": 34
    },
    "colab_type": "code",
    "id": "caq8uJmROaRR",
    "outputId": "fb0a1e13-97a3-4cb9-e7df-719d39502b9c"
   },
   "outputs": [
    {
     "data": {
      "text/plain": [
       "['CHAS']"
      ]
     },
     "execution_count": 14,
     "metadata": {},
     "output_type": "execute_result"
    }
   ],
   "source": [
    "boolean_features"
   ]
  },
  {
   "cell_type": "markdown",
   "metadata": {
    "colab_type": "text",
    "id": "VJ4QLJRR1pQV"
   },
   "source": [
    "I used log transformation and powers to discover that the features age, b and pratio were still skewed. The features were less skewed when we didn't apply log or power transformations."
   ]
  },
  {
   "cell_type": "code",
   "execution_count": 15,
   "metadata": {
    "colab": {},
    "colab_type": "code",
    "id": "viCz_LDnOaRT"
   },
   "outputs": [],
   "source": [
    "skewed_features = ['CRIM', 'ZN', 'NOX', 'DIS', 'RAD', 'TAX', 'LSTAT']\n",
    "scale_features = ['INDUS', 'RM', 'AGE', 'PTRATIO', 'B']"
   ]
  },
  {
   "cell_type": "markdown",
   "metadata": {
    "colab_type": "text",
    "id": "jO2PixxHOaRV"
   },
   "source": [
    "We need to make a log function so that we can reduce the skew of this data, but there is no log transformer or power transformer, so we use FunctionTransformer."
   ]
  },
  {
   "cell_type": "markdown",
   "metadata": {
    "colab_type": "text",
    "id": "32wdffZOT5R_"
   },
   "source": [
    "Change the order of the X data so that the processor can pass the features correctly."
   ]
  },
  {
   "cell_type": "code",
   "execution_count": 16,
   "metadata": {
    "colab": {},
    "colab_type": "code",
    "id": "FO7WLFmdTzXb"
   },
   "outputs": [],
   "source": [
    "feature_names = ['INDUS', 'RM', 'AGE', 'PTRATIO', 'B', 'CRIM', 'ZN', 'NOX', 'DIS', 'RAD', 'TAX', 'LSTAT', 'CHAS']\n",
    "X = X[feature_names]"
   ]
  },
  {
   "cell_type": "code",
   "execution_count": 17,
   "metadata": {
    "colab": {},
    "colab_type": "code",
    "id": "H6LteHS7OaRW"
   },
   "outputs": [],
   "source": [
    "def skewedpower(data):\n",
    "    return data**0.085\n",
    "# Defined my function to scale the data by 0.085. This value was chosen because it achieved the best overall skewness."
   ]
  },
  {
   "cell_type": "code",
   "execution_count": 18,
   "metadata": {
    "colab": {},
    "colab_type": "code",
    "id": "ZdIwVkIr5apR"
   },
   "outputs": [],
   "source": [
    "reduce_skew_pipeline = Pipeline([('log', FunctionTransformer(np.log1p, validate=False)), \n",
    "                                 ('power', FunctionTransformer(skewedpower))\n",
    "                                 ])\n",
    "# Used a pipeline to apply two different transformations to the same features."
   ]
  },
  {
   "cell_type": "code",
   "execution_count": 42,
   "metadata": {
    "colab": {},
    "colab_type": "code",
    "id": "N3nvp8nkOaRa"
   },
   "outputs": [],
   "source": [
    "preprocessor = ColumnTransformer(transformers=[\n",
    "        ('scale', StandardScaler(), scale_features),\n",
    "        ('skew', reduce_skew_pipeline, skewed_features)\n",
    "         ], remainder='passthrough')\n",
    "# Using log1p so we don't have to worry about having to log 0.\n",
    "# Also scaling the data by 0.085 to normalise the skewed data."
   ]
  },
  {
   "cell_type": "code",
   "execution_count": 20,
   "metadata": {
    "colab": {},
    "colab_type": "code",
    "id": "YDqlrsbEOaRg"
   },
   "outputs": [],
   "source": [
    "X_scaled = preprocessor.fit_transform(X)\n",
    "# Fitting and transforming the data into a scaled version. We can use this preprocessor again if we need it."
   ]
  },
  {
   "cell_type": "code",
   "execution_count": 21,
   "metadata": {
    "colab": {},
    "colab_type": "code",
    "id": "GfpQ4jYNOaRi"
   },
   "outputs": [],
   "source": [
    "X_scaled = pd.DataFrame(data=X_scaled, columns=feature_names)\n",
    "# Making the data a pandas dataframe for further analysis."
   ]
  },
  {
   "cell_type": "markdown",
   "metadata": {},
   "source": [
    "We now check how skewed the data is again, comparing the old X features to the new X_scaled features."
   ]
  },
  {
   "cell_type": "code",
   "execution_count": 23,
   "metadata": {
    "colab": {
     "base_uri": "https://localhost:8080/",
     "height": 238
    },
    "colab_type": "code",
    "id": "4jeYF0NSOaRm",
    "outputId": "7b90ead2-9721-4a1c-a5b9-e0f4617863f9"
   },
   "outputs": [
    {
     "data": {
      "text/plain": [
       "INDUS      0.295022\n",
       "RM         0.403612\n",
       "AGE       -0.598963\n",
       "PTRATIO   -0.802325\n",
       "B         -2.890374\n",
       "CRIM       5.223149\n",
       "ZN         2.225666\n",
       "NOX        0.729308\n",
       "DIS        1.011781\n",
       "RAD        1.004815\n",
       "TAX        0.669956\n",
       "LSTAT      0.906460\n",
       "dtype: float64"
      ]
     },
     "execution_count": 23,
     "metadata": {},
     "output_type": "execute_result"
    }
   ],
   "source": [
    "X.select_dtypes(include=[np.number]).skew()"
   ]
  },
  {
   "cell_type": "code",
   "execution_count": 22,
   "metadata": {
    "colab": {
     "base_uri": "https://localhost:8080/",
     "height": 255
    },
    "colab_type": "code",
    "id": "vrSywvc6OaRk",
    "outputId": "645914f8-6525-4f02-e0ed-24259ab93ec8"
   },
   "outputs": [
    {
     "data": {
      "text/plain": [
       "INDUS      0.295022\n",
       "RM         0.403612\n",
       "AGE       -0.598963\n",
       "PTRATIO   -0.802325\n",
       "B         -2.890374\n",
       "CRIM       0.176370\n",
       "ZN         1.070107\n",
       "NOX        0.323150\n",
       "DIS       -0.040915\n",
       "RAD       -0.223844\n",
       "TAX        0.263190\n",
       "LSTAT     -0.667883\n",
       "CHAS       3.405904\n",
       "dtype: float64"
      ]
     },
     "execution_count": 22,
     "metadata": {},
     "output_type": "execute_result"
    }
   ],
   "source": [
    "X_scaled.select_dtypes(include=[np.number]).skew()"
   ]
  },
  {
   "cell_type": "markdown",
   "metadata": {},
   "source": [
    "A much better overall skewness. Age, B and PRATIO are still skewed. A final visual representation:"
   ]
  },
  {
   "cell_type": "code",
   "execution_count": 24,
   "metadata": {
    "colab": {
     "base_uri": "https://localhost:8080/",
     "height": 610
    },
    "colab_type": "code",
    "id": "Y0TkyuKaOaRo",
    "outputId": "da29f63d-1ffe-4bcc-faee-58336897ae54"
   },
   "outputs": [
    {
     "data": {
      "image/png": "[encoded data removed]",
      "text/plain": [
       "<Figure size 1296x720 with 16 Axes>"
      ]
     },
     "metadata": {},
     "output_type": "display_data"
    }
   ],
   "source": [
    "import matplotlib.pyplot as plt\n",
    "X_scaled.hist(bins=50, figsize=(18,10))\n",
    "plt.show()"
   ]
  },
  {
   "cell_type": "code",
   "execution_count": 99,
   "metadata": {
    "colab": {
     "base_uri": "https://localhost:8080/",
     "height": 615
    },
    "colab_type": "code",
    "id": "Aw3SNgcJOaRt",
    "outputId": "710c197b-28c2-477d-de96-2d2595d048e5"
   },
   "outputs": [
    {
     "data": {
      "text/plain": [
       "<matplotlib.axes._subplots.AxesSubplot at 0x7ffcb2a0f210>"
      ]
     },
     "execution_count": 99,
     "metadata": {},
     "output_type": "execute_result"
    },
    {
     "data": {
      "image/png": "[encoded data removed]",
      "text/plain": [
       "<Figure size 720x576 with 2 Axes>"
      ]
     },
     "metadata": {},
     "output_type": "display_data"
    }
   ],
   "source": [
    "plt.figure(figsize=(10, 8))\n",
    "sns.heatmap(X_scaled.corr(), cmap='RdBu', annot=True)\n",
    "# Check how features correlate with each other, high correlation is non-preferable for the model."
   ]
  },
  {
   "cell_type": "markdown",
   "metadata": {
    "colab_type": "text",
    "id": "3tmeOnuecHGx"
   },
   "source": [
    "## Splitting the data"
   ]
  },
  {
   "cell_type": "code",
   "execution_count": 44,
   "metadata": {
    "colab": {},
    "colab_type": "code",
    "id": "174XaxopOaRq"
   },
   "outputs": [],
   "source": [
    "X_train, X_test, y_train, y_test = train_test_split(X_scaled, y.values.ravel(), test_size=0.5, random_state=42)\n",
    "# Splitting the data evenly becuase of the lack of instances.\n",
    "X_test, X_val, y_test, y_val = train_test_split(X_test, y_test, test_size=0.5, random_state=42)\n",
    "# Again splitting the data into a 50% training, 25% test and 25% validation."
   ]
  },
  {
   "cell_type": "markdown",
   "metadata": {
    "colab_type": "text",
    "id": "idNVkVHuOaRw"
   },
   "source": [
    "## Model Selection"
   ]
  },
  {
   "cell_type": "code",
   "execution_count": 45,
   "metadata": {
    "colab": {
     "base_uri": "https://localhost:8080/",
     "height": 153
    },
    "colab_type": "code",
    "id": "4YeCxJxDOaRw",
    "outputId": "cd2840dd-4d9a-4788-cf53-2abe21a57a58"
   },
   "outputs": [
    {
     "data": {
      "text/plain": [
       "ExtraTreesRegressor()"
      ]
     },
     "execution_count": 45,
     "metadata": {},
     "output_type": "execute_result"
    }
   ],
   "source": [
    "random_reg = RandomForestRegressor(random_state=42)\n",
    "lin_reg = LinearRegression()\n",
    "elastic_reg = ElasticNet(random_state=42)\n",
    "lass_reg = Lasso(random_state=42)\n",
    "svr = SVR()\n",
    "lin_srv = LinearSVR(random_state=42)\n",
    "ada_reg = AdaBoostRegressor(DecisionTreeRegressor(max_depth=1), n_estimators=200, learning_rate=0.5)\n",
    "xgb_reg = xgboost.XGBRegressor()\n",
    "extra_tree_reg = ExtraTreesRegressor()\n",
    "# Defining regression models to be trained."
   ]
  },
  {
   "cell_type": "code",
   "execution_count": 48,
   "metadata": {
    "colab": {
     "base_uri": "https://localhost:8080/",
     "height": 255
    },
    "colab_type": "code",
    "id": "BbOe008mOaRy",
    "outputId": "eea3441f-2ece-4b85-b7af-50961cc37bf8"
   },
   "outputs": [
    {
     "name": "stdout",
     "output_type": "stream",
     "text": [
      "RandomForestRegressor 3.8804400163622907\n",
      "LinearRegression 4.273841476202565\n",
      "ElasticNet 6.104622851025142\n",
      "Lasso 5.833653859138552\n",
      "SVR 5.905485284556716\n",
      "LinearSVR 5.599578086246889\n",
      "AdaBoostRegressor 5.837412507371851\n",
      "XGBRegressor 4.066196622779617\n",
      "ExtraTreesRegressor 3.5022471509144446\n"
     ]
    }
   ],
   "source": [
    "for reg in (random_reg, lin_reg, elastic_reg, lass_reg, svr, lin_srv, ada_reg, xgb_reg, extra_tree_reg):\n",
    "    reg.fit(X_train, y_train)\n",
    "    # Run through each model and fit them to the training data.\n",
    "    scores = cross_val_score(reg, X_train, y_train, scoring=\"neg_mean_squared_error\", cv=5);\n",
    "    # Find the scores of the nmse with cv=5 because we have a small amount of data.\n",
    "    sqrt_scores = np.sqrt(-scores)\n",
    "    mean_score = sqrt_scores.mean()\n",
    "    print(reg.__class__.__name__, mean_score)"
   ]
  },
  {
   "cell_type": "code",
   "execution_count": 29,
   "metadata": {
    "colab": {
     "base_uri": "https://localhost:8080/",
     "height": 170
    },
    "colab_type": "code",
    "id": "1aLxo_3Hs97R",
    "outputId": "65751cc7-d6c9-4d1c-abfc-350cb36ac182"
   },
   "outputs": [
    {
     "name": "stdout",
     "output_type": "stream",
     "text": [
      "RandomForestRegressor 0.97490695196381 0.8499969150633414\n",
      "LinearRegression 0.812983060654409 0.8212452127076986\n",
      "ElasticNet 0.5840828710105674 0.6446332664986998\n",
      "Lasso 0.6221827352131322 0.6729218653831419\n",
      "SVR 0.6534708950313082 0.68289049959146\n",
      "LinearSVR 0.6507078264315929 0.6871119607392031\n",
      "AdaBoostRegressor 0.6460989257252605 0.6552438043355855\n",
      "XGBRegressor 0.9999997643738315 0.8788273762552107\n",
      "ExtraTreesRegressor 1.0 0.9178477769375345\n"
     ]
    }
   ],
   "source": [
    "# Because our data has been split from the X_scaled version we can look at the R^2 scores.\n",
    "for reg in (random_reg, lin_reg, elastic_reg, lass_reg, svr, lin_srv, ada_reg, xgb_reg, extra_tree_reg):\n",
    "    train_score = reg.score(X_train, y_train)\n",
    "    test_score = reg.score(X_test, y_test)\n",
    "    # Scores for the training data and the test data. The larger the gap the more likely we have overfit our data.\n",
    "    print(reg.__class__.__name__, train_score, test_score)"
   ]
  },
  {
   "cell_type": "markdown",
   "metadata": {
    "colab_type": "text",
    "id": "uiMM3uqxOaR0"
   },
   "source": [
    "## ExtraTreeRegressor. This model was the most consistent as the best performer"
   ]
  },
  {
   "cell_type": "code",
   "execution_count": 30,
   "metadata": {
    "colab": {
     "base_uri": "https://localhost:8080/",
     "height": 408
    },
    "colab_type": "code",
    "collapsed": true,
    "id": "hW504y46OaR1",
    "jupyter": {
     "outputs_hidden": true
    },
    "outputId": "5f8478f5-ed7e-474c-aff2-3a5dfc5eb108"
   },
   "outputs": [
    {
     "name": "stdout",
     "output_type": "stream",
     "text": [
      "Fitting 5 folds for each of 4 candidates, totalling 20 fits\n",
      "[CV] max_depth=20, max_features=0.4, min_samples_leaf=1, min_samples_split=2, n_estimators=1000 \n"
     ]
    },
    {
     "name": "stderr",
     "output_type": "stream",
     "text": [
      "[Parallel(n_jobs=1)]: Using backend SequentialBackend with 1 concurrent workers.\n"
     ]
    },
    {
     "name": "stdout",
     "output_type": "stream",
     "text": [
      "[CV]  max_depth=20, max_features=0.4, min_samples_leaf=1, min_samples_split=2, n_estimators=1000, score=(train=-0.000, test=-10.638), total=   1.1s\n",
      "[CV] max_depth=20, max_features=0.4, min_samples_leaf=1, min_samples_split=2, n_estimators=1000 \n"
     ]
    },
    {
     "name": "stderr",
     "output_type": "stream",
     "text": [
      "[Parallel(n_jobs=1)]: Done   1 out of   1 | elapsed:    1.1s remaining:    0.0s\n"
     ]
    },
    {
     "name": "stdout",
     "output_type": "stream",
     "text": [
      "[CV]  max_depth=20, max_features=0.4, min_samples_leaf=1, min_samples_split=2, n_estimators=1000, score=(train=-0.000, test=-13.643), total=   1.0s\n",
      "[CV] max_depth=20, max_features=0.4, min_samples_leaf=1, min_samples_split=2, n_estimators=1000 \n"
     ]
    },
    {
     "name": "stderr",
     "output_type": "stream",
     "text": [
      "[Parallel(n_jobs=1)]: Done   2 out of   2 | elapsed:    2.2s remaining:    0.0s\n"
     ]
    },
    {
     "name": "stdout",
     "output_type": "stream",
     "text": [
      "[CV]  max_depth=20, max_features=0.4, min_samples_leaf=1, min_samples_split=2, n_estimators=1000, score=(train=-0.000, test=-9.375), total=   1.2s\n",
      "[CV] max_depth=20, max_features=0.4, min_samples_leaf=1, min_samples_split=2, n_estimators=1000 \n",
      "[CV]  max_depth=20, max_features=0.4, min_samples_leaf=1, min_samples_split=2, n_estimators=1000, score=(train=-0.000, test=-11.685), total=   1.1s\n",
      "[CV] max_depth=20, max_features=0.4, min_samples_leaf=1, min_samples_split=2, n_estimators=1000 \n",
      "[CV]  max_depth=20, max_features=0.4, min_samples_leaf=1, min_samples_split=2, n_estimators=1000, score=(train=-0.000, test=-16.281), total=   1.2s\n",
      "[CV] max_depth=20, max_features=0.4, min_samples_leaf=2, min_samples_split=2, n_estimators=1000 \n",
      "[CV]  max_depth=20, max_features=0.4, min_samples_leaf=2, min_samples_split=2, n_estimators=1000, score=(train=-3.906, test=-14.745), total=   1.0s\n",
      "[CV] max_depth=20, max_features=0.4, min_samples_leaf=2, min_samples_split=2, n_estimators=1000 \n",
      "[CV]  max_depth=20, max_features=0.4, min_samples_leaf=2, min_samples_split=2, n_estimators=1000, score=(train=-3.447, test=-15.256), total=   0.9s\n",
      "[CV] max_depth=20, max_features=0.4, min_samples_leaf=2, min_samples_split=2, n_estimators=1000 \n",
      "[CV]  max_depth=20, max_features=0.4, min_samples_leaf=2, min_samples_split=2, n_estimators=1000, score=(train=-3.683, test=-11.933), total=   0.9s\n",
      "[CV] max_depth=20, max_features=0.4, min_samples_leaf=2, min_samples_split=2, n_estimators=1000 \n",
      "[CV]  max_depth=20, max_features=0.4, min_samples_leaf=2, min_samples_split=2, n_estimators=1000, score=(train=-3.686, test=-15.155), total=   0.9s\n",
      "[CV] max_depth=20, max_features=0.4, min_samples_leaf=2, min_samples_split=2, n_estimators=1000 \n",
      "[CV]  max_depth=20, max_features=0.4, min_samples_leaf=2, min_samples_split=2, n_estimators=1000, score=(train=-2.851, test=-19.617), total=   0.9s\n",
      "[CV] max_depth=50, max_features=0.4, min_samples_leaf=1, min_samples_split=2, n_estimators=1000 \n",
      "[CV]  max_depth=50, max_features=0.4, min_samples_leaf=1, min_samples_split=2, n_estimators=1000, score=(train=-0.000, test=-10.106), total=   1.0s\n",
      "[CV] max_depth=50, max_features=0.4, min_samples_leaf=1, min_samples_split=2, n_estimators=1000 \n",
      "[CV]  max_depth=50, max_features=0.4, min_samples_leaf=1, min_samples_split=2, n_estimators=1000, score=(train=-0.000, test=-13.598), total=   1.0s\n",
      "[CV] max_depth=50, max_features=0.4, min_samples_leaf=1, min_samples_split=2, n_estimators=1000 \n",
      "[CV]  max_depth=50, max_features=0.4, min_samples_leaf=1, min_samples_split=2, n_estimators=1000, score=(train=-0.000, test=-9.505), total=   1.0s\n",
      "[CV] max_depth=50, max_features=0.4, min_samples_leaf=1, min_samples_split=2, n_estimators=1000 \n",
      "[CV]  max_depth=50, max_features=0.4, min_samples_leaf=1, min_samples_split=2, n_estimators=1000, score=(train=-0.000, test=-11.966), total=   1.0s\n",
      "[CV] max_depth=50, max_features=0.4, min_samples_leaf=1, min_samples_split=2, n_estimators=1000 \n",
      "[CV]  max_depth=50, max_features=0.4, min_samples_leaf=1, min_samples_split=2, n_estimators=1000, score=(train=-0.000, test=-15.777), total=   1.2s\n",
      "[CV] max_depth=50, max_features=0.4, min_samples_leaf=2, min_samples_split=2, n_estimators=1000 \n",
      "[CV]  max_depth=50, max_features=0.4, min_samples_leaf=2, min_samples_split=2, n_estimators=1000, score=(train=-3.867, test=-13.919), total=   1.1s\n",
      "[CV] max_depth=50, max_features=0.4, min_samples_leaf=2, min_samples_split=2, n_estimators=1000 \n",
      "[CV]  max_depth=50, max_features=0.4, min_samples_leaf=2, min_samples_split=2, n_estimators=1000, score=(train=-3.397, test=-15.642), total=   0.9s\n",
      "[CV] max_depth=50, max_features=0.4, min_samples_leaf=2, min_samples_split=2, n_estimators=1000 \n",
      "[CV]  max_depth=50, max_features=0.4, min_samples_leaf=2, min_samples_split=2, n_estimators=1000, score=(train=-3.699, test=-11.699), total=   1.0s\n",
      "[CV] max_depth=50, max_features=0.4, min_samples_leaf=2, min_samples_split=2, n_estimators=1000 \n",
      "[CV]  max_depth=50, max_features=0.4, min_samples_leaf=2, min_samples_split=2, n_estimators=1000, score=(train=-3.704, test=-15.272), total=   1.0s\n",
      "[CV] max_depth=50, max_features=0.4, min_samples_leaf=2, min_samples_split=2, n_estimators=1000 \n",
      "[CV]  max_depth=50, max_features=0.4, min_samples_leaf=2, min_samples_split=2, n_estimators=1000, score=(train=-2.900, test=-19.724), total=   1.0s\n"
     ]
    },
    {
     "name": "stderr",
     "output_type": "stream",
     "text": [
      "[Parallel(n_jobs=1)]: Done  20 out of  20 | elapsed:   21.7s finished\n"
     ]
    },
    {
     "data": {
      "text/plain": [
       "GridSearchCV(cv=5, estimator=ExtraTreesRegressor(),\n",
       "             param_grid=[{'max_depth': [20, 50], 'max_features': [0.4],\n",
       "                          'min_samples_leaf': [1, 2], 'min_samples_split': [2],\n",
       "                          'n_estimators': [1000]}],\n",
       "             return_train_score=True, scoring='neg_mean_squared_error',\n",
       "             verbose=3)"
      ]
     },
     "execution_count": 30,
     "metadata": {},
     "output_type": "execute_result"
    }
   ],
   "source": [
    "param_grid = [\n",
    "    {'max_depth': [10, 20, 30, 40, 50, 60],\n",
    "     'min_samples_leaf': [1, 2],\n",
    "     'min_samples_split': [2],\n",
    "     'max_features':[0.3, 0.4, 0.5, 0.6]}\n",
    "    ]\n",
    "grid_search = GridSearchCV(extra_tree_reg, param_grid, cv=5, scoring='neg_mean_squared_error', return_train_score=True, verbose=3)\n",
    "grid_search.fit(X_train, y_train.values.ravel())"
   ]
  },
  {
   "cell_type": "code",
   "execution_count": 82,
   "metadata": {
    "colab": {
     "base_uri": "https://localhost:8080/",
     "height": 34
    },
    "colab_type": "code",
    "id": "orCnf3lpOaR3",
    "outputId": "e6f1c744-d5e5-4b7b-b71b-137752958d3f"
   },
   "outputs": [
    {
     "data": {
      "text/plain": [
       "3.491458078704602"
      ]
     },
     "execution_count": 82,
     "metadata": {},
     "output_type": "execute_result"
    }
   ],
   "source": [
    "np.sqrt(abs(grid_search.best_score_))"
   ]
  },
  {
   "cell_type": "code",
   "execution_count": 93,
   "metadata": {
    "colab": {
     "base_uri": "https://localhost:8080/",
     "height": 136
    },
    "colab_type": "code",
    "id": "D_8JQI5TOaR5",
    "outputId": "c8bb3765-fe22-4682-d6c0-98a0eacfe923"
   },
   "outputs": [],
   "source": [
    "grid_search.best_estimator_"
   ]
  },
  {
   "cell_type": "markdown",
   "metadata": {
    "colab_type": "text",
    "id": "jlgxtKI9OaSF"
   },
   "source": [
    "### Through the above grid search we found the best values for this model. ExtraTree_reg = ExtraTreesRegressor(max_depth=50, max_features=0.4, n_estimators=1000)"
   ]
  },
  {
   "cell_type": "code",
   "execution_count": 84,
   "metadata": {
    "colab": {
     "base_uri": "https://localhost:8080/",
     "height": 238
    },
    "colab_type": "code",
    "id": "HYai5FlIOaSG",
    "outputId": "7024ca38-ae9b-4436-8520-b66bdc257c34"
   },
   "outputs": [
    {
     "data": {
      "text/plain": [
       "[(0.3008522290054395, 'RM'),\n",
       " (0.2250421285163597, 'LSTAT'),\n",
       " (0.08060123091456207, 'PTRATIO'),\n",
       " (0.06359382233110165, 'INDUS'),\n",
       " (0.05288981602266933, 'TAX'),\n",
       " (0.04637796256665609, 'CHAS'),\n",
       " (0.04352148281285434, 'B'),\n",
       " (0.04142177678621076, 'NOX'),\n",
       " (0.037378292173465964, 'DIS'),\n",
       " (0.03683868902316031, 'RAD'),\n",
       " (0.03611002188616492, 'CRIM'),\n",
       " (0.024060809460724034, 'AGE'),\n",
       " (0.011311738500631302, 'ZN')]"
      ]
     },
     "execution_count": 84,
     "metadata": {},
     "output_type": "execute_result"
    }
   ],
   "source": [
    "feature_importance=grid_search.best_estimator_.feature_importances_\n",
    "sorted(zip(feature_importance, feature_names), reverse=True)\n",
    "# We check to see if any features need to be dropped."
   ]
  },
  {
   "cell_type": "markdown",
   "metadata": {},
   "source": [
    "The most important features seemed to be LSTAT (satus of area) and RM (rooms). No need to drop any features"
   ]
  },
  {
   "cell_type": "code",
   "execution_count": 85,
   "metadata": {
    "colab": {},
    "colab_type": "code",
    "id": "3nIu0PhsOaSI"
   },
   "outputs": [],
   "source": [
    "final_model = grid_search.best_estimator_ \n",
    "# We set our final model."
   ]
  },
  {
   "cell_type": "markdown",
   "metadata": {},
   "source": [
    "#### Early stopping "
   ]
  },
  {
   "cell_type": "code",
   "execution_count": 86,
   "metadata": {},
   "outputs": [],
   "source": [
    "min_val_error = float(\"inf\")\n",
    "error_going_up = 0\n",
    "for n_estimators in range(1, 200):\n",
    "    final_model.n_estimators = n_estimators\n",
    "    # Increasing the number of n_estimators and fitting as the new model.\n",
    "    final_model.fit(X_train, y_train)\n",
    "    y_pred = final_model.predict(X_val)\n",
    "    val_error = mean_squared_error(y_val, y_pred)\n",
    "    if val_error < min_val_error:\n",
    "        min_val_error = val_error\n",
    "        error_going_up = 0\n",
    "    else:\n",
    "        error_going_up +=1\n",
    "        if error_going_up == 10:\n",
    "            break\n",
    "# This code runs through the number of n_estimators and sees at what point we are overfitting the model and the validation set is increasing. The validation must increase on 10 iterations for the code to break."
   ]
  },
  {
   "cell_type": "code",
   "execution_count": 87,
   "metadata": {
    "colab": {
     "base_uri": "https://localhost:8080/",
     "height": 34
    },
    "colab_type": "code",
    "id": "8Akm0PyXOaSK",
    "outputId": "e80f509c-765f-4aca-d1f0-ec432f40c0b1"
   },
   "outputs": [
    {
     "data": {
      "text/plain": [
       "2.403445197549195"
      ]
     },
     "execution_count": 87,
     "metadata": {},
     "output_type": "execute_result"
    }
   ],
   "source": [
    "final_predictions = final_model.predict(X_test)\n",
    "# Making the final predictions on the test set.\n",
    "final_mse = mean_squared_error(y_test, final_predictions)\n",
    "final_rmse=np.sqrt(final_mse)\n",
    "# Finding the mse between the predictions and the real data.\n",
    "final_rmse"
   ]
  },
  {
   "cell_type": "markdown",
   "metadata": {},
   "source": [
    "This is a good final rmse. Perfection would be 0."
   ]
  },
  {
   "cell_type": "code",
   "execution_count": 92,
   "metadata": {
    "colab": {
     "base_uri": "https://localhost:8080/",
     "height": 34
    },
    "colab_type": "code",
    "id": "8raGopLrOaSM",
    "outputId": "d86d2419-b1f1-4fb8-c66b-ce29f37536fd"
   },
   "outputs": [
    {
     "data": {
      "text/plain": [
       "0.999999878472267"
      ]
     },
     "execution_count": 92,
     "metadata": {},
     "output_type": "execute_result"
    }
   ],
   "source": [
    "final_model.score(X_train, y_train)\n",
    "# Final score on the training set."
   ]
  },
  {
   "cell_type": "code",
   "execution_count": 91,
   "metadata": {
    "colab": {
     "base_uri": "https://localhost:8080/",
     "height": 34
    },
    "colab_type": "code",
    "id": "_JB4BaKQOaSO",
    "outputId": "cba0769d-0452-4f6a-9d06-fa25496ef446"
   },
   "outputs": [
    {
     "data": {
      "text/plain": [
       "0.9243537843576412"
      ]
     },
     "execution_count": 91,
     "metadata": {},
     "output_type": "execute_result"
    }
   ],
   "source": [
    "final_model.score(X_test, y_test)\n",
    "# Final score on the test set."
   ]
  },
  {
   "cell_type": "markdown",
   "metadata": {},
   "source": [
    "This score of 99% on the trainig set and 92% on the test set indicates that our model is overfitting but is expected with a small dataset size."
   ]
  },
  {
   "cell_type": "code",
   "execution_count": 96,
   "metadata": {
    "colab": {},
    "colab_type": "code",
    "id": "FWfbH2cYOaSS"
   },
   "outputs": [],
   "source": [
    "def plot_learning_curves(model, X_train=X_train, y_train=y_train, X_val=X_val, y_val=y_val):\n",
    "    train_error, val_error = [], []\n",
    "    for m in range(1, len(X_train)):\n",
    "        model.fit(X_train[:m], y_train[:m])\n",
    "        y_train_predict = model.predict(X_train[:m])\n",
    "        y_val_predict = model.predict(X_val)\n",
    "        train_error.append(mean_squared_error(y_train[:m], y_train_predict))\n",
    "        val_error.append(mean_squared_error(y_val, y_val_predict))\n",
    "    plt.figure(figsize=(25, 10))\n",
    "    plt.plot(np.sqrt(train_error), \"r-+\", linewidth=2, label=\"train\")\n",
    "    plt.plot(np.sqrt(val_error), \"b-+\", linewidth=3, label=\"val\")\n",
    "    plt.legend([\"Training data\", \"Validation data\"])\n",
    "# This function plots the data of the mse at each interval of the size of the training set and plots the mse of the validation set."
   ]
  },
  {
   "cell_type": "code",
   "execution_count": 97,
   "metadata": {
    "colab": {
     "base_uri": "https://localhost:8080/",
     "height": 866
    },
    "colab_type": "code",
    "id": "kCgJfEhIOaSU",
    "outputId": "d79c2a95-db0e-4b48-c2b9-8f27cd9184e2"
   },
   "outputs": [
    {
     "data": {
      "image/png": "[encoded data removed]",
      "text/plain": [
       "<Figure size 1800x720 with 1 Axes>"
      ]
     },
     "metadata": {},
     "output_type": "display_data"
    }
   ],
   "source": [
    "plot_learning_curves(final_model)"
   ]
  },
  {
   "cell_type": "markdown",
   "metadata": {},
   "source": [
    "***\n",
    "The graph shows high variance and low bias. We could improve this by increasing the number of instances or attempting to regularize the model more.\n",
    "<br>\n",
    "Overall we were # 91-93% accurate on the prices of houses in Boston. The features that were the most important was the number of rooms and the status of the area.\n",
    "***"
   ]
  }
 ],
 "metadata": {
  "colab": {
   "collapsed_sections": [],
   "name": "Boston_housing.ipynb",
   "provenance": []
  },
  "kernelspec": {
   "display_name": "Python 3",
   "language": "python",
   "name": "python3"
  },
  "language_info": {
   "codemirror_mode": {
    "name": "ipython",
    "version": 3
   },
   "file_extension": ".py",
   "mimetype": "text/x-python",
   "name": "python",
   "nbconvert_exporter": "python",
   "pygments_lexer": "ipython3",
   "version": "3.7.6"
  }
 },
 "nbformat": 4,
 "nbformat_minor": 4
}
