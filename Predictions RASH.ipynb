{
  "nbformat": 4,
  "nbformat_minor": 0,
  "metadata": {
    "colab": {
      "name": "predictions.ipynb",
      "provenance": [],
      "collapsed_sections": [],
      "mount_file_id": "1jXi2_Tj_VqMSap3p4m7bPoTq7vttSQcw",
      "authorship_tag": "ABX9TyMTrGmcj0Zqn1yMQ+Rm8FgU",
      "include_colab_link": true
    },
    "kernelspec": {
      "name": "python3",
      "display_name": "Python 3"
    },
    "accelerator": "GPU"
  },
  "cells": [
    {
      "cell_type": "markdown",
      "metadata": {
        "id": "view-in-github",
        "colab_type": "text"
      },
      "source": [
        "<a href=\"https://colab.research.google.com/github/kieran514/Projects/blob/master/Predictions%20RASH.ipynb\" target=\"_parent\"><img src=\"https://colab.research.google.com/assets/colab-badge.svg\" alt=\"Open In Colab\"/></a>"
      ]
    },
    {
      "cell_type": "code",
      "metadata": {
        "id": "FJWMaJNDwyWq",
        "outputId": "e74854f8-567e-45b9-9cf2-cc1ae5256e5d",
        "colab": {
          "base_uri": "https://localhost:8080/",
          "height": 207
        }
      },
      "source": [
        "!pip install -Uqq fastbook\n",
        "from fastbook import *\n",
        "from fastai.vision.widgets import *\n",
        "from scipy.ndimage import filters"
      ],
      "execution_count": null,
      "outputs": [
        {
          "output_type": "stream",
          "text": [
            "\u001b[K     |████████████████████████████████| 727kB 2.6MB/s \n",
            "\u001b[K     |████████████████████████████████| 358kB 12.8MB/s \n",
            "\u001b[K     |████████████████████████████████| 51kB 6.7MB/s \n",
            "\u001b[K     |████████████████████████████████| 1.0MB 9.5MB/s \n",
            "\u001b[K     |████████████████████████████████| 61kB 7.4MB/s \n",
            "\u001b[K     |████████████████████████████████| 40kB 5.8MB/s \n",
            "\u001b[K     |████████████████████████████████| 40kB 6.0MB/s \n",
            "\u001b[K     |████████████████████████████████| 92kB 8.9MB/s \n",
            "\u001b[K     |████████████████████████████████| 61kB 8.5MB/s \n",
            "\u001b[K     |████████████████████████████████| 51kB 7.9MB/s \n",
            "\u001b[K     |████████████████████████████████| 2.6MB 16.6MB/s \n",
            "\u001b[?25h"
          ],
          "name": "stdout"
        }
      ]
    },
    {
      "cell_type": "code",
      "metadata": {
        "id": "EOa2_EWQREW-",
        "outputId": "2c21a97b-58fd-4f07-dfe4-bb676b374cdc",
        "colab": {
          "base_uri": "https://localhost:8080/",
          "height": 52
        }
      },
      "source": [
        "from google.colab import drive\n",
        "drive.mount('/content/drive')\n",
        "%cd drive/My\\ Drive/Projects/RASH\n",
        "path = Path('.')"
      ],
      "execution_count": null,
      "outputs": [
        {
          "output_type": "stream",
          "text": [
            "Mounted at /content/drive\n",
            "/content/drive/My Drive/Projects/RASH\n"
          ],
          "name": "stdout"
        }
      ]
    },
    {
      "cell_type": "code",
      "metadata": {
        "id": "jUs-bEwDkwVa"
      },
      "source": [
        "learn_inf = load_learner(path/'export.pkl')\n",
        "lr_min, lr_steep = learn_inf.lr_find()"
      ],
      "execution_count": null,
      "outputs": []
    },
    {
      "cell_type": "code",
      "metadata": {
        "id": "JqK0eg-9kx4X",
        "outputId": "36d9c1e8-cdf4-4329-95ee-7cb3b60575bb",
        "colab": {
          "base_uri": "https://localhost:8080/",
          "height": 207
        }
      },
      "source": [
        "cats = learn_inf.dls.vocab\n",
        "[i for i in cats]"
      ],
      "execution_count": null,
      "outputs": [
        {
          "output_type": "execute_result",
          "data": {
            "text/plain": [
              "['Acne',\n",
              " 'ChickenPox',\n",
              " 'ColdSores',\n",
              " 'Diaper',\n",
              " 'Eczema',\n",
              " 'Fifth Disease',\n",
              " 'Healthy',\n",
              " 'Impetigo',\n",
              " 'Kawasaki',\n",
              " 'Measles',\n",
              " 'Scarlet Fever']"
            ]
          },
          "metadata": {
            "tags": []
          },
          "execution_count": 4
        }
      ]
    },
    {
      "cell_type": "code",
      "metadata": {
        "id": "1N-G1EkMkyqT"
      },
      "source": [
        "btn_upload = widgets.FileUpload()\n",
        "\n",
        "out_pl = widgets.Output()\n",
        "\n",
        "lbl_pred = widgets.Label()\n",
        "\n",
        "btn_run = widgets.Button(description='Classify')\n",
        "\n",
        "def on_click_classify(change):\n",
        "    img = PILImage.create(btn_upload.data[-1])\n",
        "    out_pl.clear_output()\n",
        "    with out_pl: display(img.to_thumb(128, 128))\n",
        "    pred, pred_idx, probs = learn_inf.predict(img)\n",
        "    top_idx = np.argpartition(probs, -2)[-2:]\n",
        "    names = cats[top_idx]\n",
        "    pb = probs[top_idx]\n",
        "    os.system('cls')\n",
        "    if pb[1].item() > 0.4:\n",
        "      for i in range(2):\n",
        "        lbl_pred.value = f'Prediction: {names[i]}; Probability: {pb[i] * 100:.04f}%'\n",
        "        print(lbl_pred.value)\n",
        "    else:\n",
        "      print('Model cannot tell')\n",
        "\n",
        "btn_run.on_click(on_click_classify)"
      ],
      "execution_count": null,
      "outputs": []
    },
    {
      "cell_type": "code",
      "metadata": {
        "id": "lHsJbUJikywQ"
      },
      "source": [
        "btn_upload = widgets.FileUpload()"
      ],
      "execution_count": null,
      "outputs": []
    },
    {
      "cell_type": "code",
      "metadata": {
        "id": "6hwVM5YXkyvg"
      },
      "source": [
        "VBox([widgets.Label('Select your image!'), \n",
        "      btn_upload, btn_run, out_pl, lbl_pred])"
      ],
      "execution_count": null,
      "outputs": []
    },
    {
      "cell_type": "code",
      "metadata": {
        "id": "3cOzZ0UrxAHI"
      },
      "source": [
        ""
      ],
      "execution_count": null,
      "outputs": []
    }
  ]
}